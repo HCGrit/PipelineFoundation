{
  "nbformat": 4,
  "nbformat_minor": 0,
  "metadata": {
    "colab": {
      "name": "Pipeline Experiment.ipynb",
      "provenance": [],
      "collapsed_sections": [],
      "authorship_tag": "ABX9TyMYwerXEgiwGSEXN767uP4N",
      "include_colab_link": true
    },
    "kernelspec": {
      "name": "python3",
      "display_name": "Python 3"
    }
  },
  "cells": [
    {
      "cell_type": "markdown",
      "metadata": {
        "id": "view-in-github",
        "colab_type": "text"
      },
      "source": [
        "<a href=\"https://colab.research.google.com/github/HCGrit/PipelineFoundation/blob/master/Pipeline_Experiment.ipynb\" target=\"_parent\"><img src=\"https://colab.research.google.com/assets/colab-badge.svg\" alt=\"Open In Colab\"/></a>"
      ]
    },
    {
      "cell_type": "markdown",
      "metadata": {
        "id": "U91hkLpi-SBV",
        "colab_type": "text"
      },
      "source": [
        "#Imports"
      ]
    },
    {
      "cell_type": "code",
      "metadata": {
        "id": "8cjFGNq0P_re",
        "colab_type": "code",
        "colab": {}
      },
      "source": [
        "import numpy as np\n",
        "import pandas as pd\n",
        "import warnings\n",
        "warnings.filterwarnings('ignore')\n",
        "from sklearn.metrics import mean_squared_error\n",
        "\n",
        "from sklearn.preprocessing import StandardScaler, PowerTransformer\n",
        "from sklearn.compose import TransformedTargetRegressor\n",
        "from sklearn.pipeline import FeatureUnion, Pipeline, make_pipeline\n",
        "from sklearn.base import BaseEstimator, TransformerMixin\n",
        "\n",
        "from sklearn.linear_model import LinearRegression"
      ],
      "execution_count": 0,
      "outputs": []
    },
    {
      "cell_type": "markdown",
      "metadata": {
        "id": "aZ7KzRqK-KHL",
        "colab_type": "text"
      },
      "source": [
        "#Pipeline Experiment"
      ]
    },
    {
      "cell_type": "code",
      "metadata": {
        "id": "D13TnX_2_mLi",
        "colab_type": "code",
        "colab": {}
      },
      "source": [
        "df = pd.DataFrame(columns=['X1', 'X2', 'y'], data=[\n",
        "                                                   [1,16,9],\n",
        "                                                   [4,36,16],\n",
        "                                                   [1,16,9],\n",
        "                                                   [2,9,8],\n",
        "                                                   [3,36,15],\n",
        "                                                   [2,49,16],\n",
        "                                                   [4,25,14],\n",
        "                                                   [5,36,17]\n",
        "])\n",
        "\n",
        "### y = X1 + 2 * sqrt(X2)\n",
        "\n",
        "train = df.iloc[:6]\n",
        "test = df.iloc[6:]\n",
        "\n",
        "train_X = train.drop('y', axis=1)\n",
        "train_y = train.y\n",
        "\n",
        "test_X = test.drop('y', axis=1)\n",
        "test_y = test.y"
      ],
      "execution_count": 0,
      "outputs": []
    },
    {
      "cell_type": "code",
      "metadata": {
        "id": "Wd_emlUpBbig",
        "colab_type": "code",
        "colab": {
          "base_uri": "https://localhost:8080/",
          "height": 90
        },
        "outputId": "d33d7919-f565-4b51-d6b5-cd0dae60604d"
      },
      "source": [
        "# let's see if linear regression is able to predict this properly\n",
        "m1 = LinearRegression()\n",
        "fit1 = m1.fit(train_X, train_y)\n",
        "preds = fit1.predict(test_X)\n",
        "print(f\"\\n{preds}\")\n",
        "print(f\"RMSE: {np.sqrt(mean_squared_error(test_y, preds))}\\n\")"
      ],
      "execution_count": 29,
      "outputs": [
        {
          "output_type": "stream",
          "text": [
            "\n",
            "[13.72113586 16.93334467]\n",
            "RMSE: 0.20274138822160603\n",
            "\n"
          ],
          "name": "stdout"
        }
      ]
    },
    {
      "cell_type": "code",
      "metadata": {
        "id": "zQayYrzmDWE7",
        "colab_type": "code",
        "colab": {
          "base_uri": "https://localhost:8080/",
          "height": 145
        },
        "outputId": "b9b3321c-e5b9-4777-d673-8bb07def11d3"
      },
      "source": [
        "# what if we square-root X2 and multiply by 2?\n",
        "train_X.X2 = 2 * np.sqrt(train_X.X2)\n",
        "test_X.X2 = 2 * np.sqrt(test_X.X2)\n",
        "print(test_X)\n",
        "m2 = LinearRegression()\n",
        "fit2 = m2.fit(train_X, train_y)\n",
        "preds = fit2.predict(test_X)\n",
        "print(f\"\\n{preds}\")\n",
        "print(f\"RMSE: {np.sqrt(mean_squared_error(test_y, preds))}\\n\")"
      ],
      "execution_count": 30,
      "outputs": [
        {
          "output_type": "stream",
          "text": [
            "   X1    X2\n",
            "6   4  10.0\n",
            "7   5  12.0\n",
            "\n",
            "[14. 17.]\n",
            "RMSE: 1.2560739669470201e-15\n",
            "\n"
          ],
          "name": "stdout"
        }
      ]
    },
    {
      "cell_type": "code",
      "metadata": {
        "id": "xMrbwYDDNFKu",
        "colab_type": "code",
        "colab": {}
      },
      "source": [
        "# a perfect prediction, because the data after transformation, fits a perfect linear trend.\n",
        "# let's restore the data back to original, and do this via custom transformers using pipeline.\n",
        "train = df.iloc[:6]\n",
        "test = df.iloc[6:]\n",
        "\n",
        "train_X = train.drop('y', axis=1)\n",
        "train_y = train.y\n",
        "\n",
        "test_X = test.drop('y', axis=1)\n",
        "test_y = test.y"
      ],
      "execution_count": 0,
      "outputs": []
    },
    {
      "cell_type": "code",
      "metadata": {
        "id": "SD08IkZP-Lam",
        "colab_type": "code",
        "colab": {}
      },
      "source": [
        "# references: \n",
        "# https://towardsdatascience.com/custom-transformers-and-ml-data-pipelines-with-python-20ea2a7adb65\n",
        "# https://machinelearningmastery.com/how-to-transform-target-variables-for-regression-with-scikit-learn/\n",
        "# http://zacstewart.com/2014/08/05/pipelines-of-featureunions-of-pipelines.html\n",
        "# https://stackoverflow.com/questions/43308042/transformer-initialize-twice-in-pipeline\n",
        "\n",
        "class ExperimentalTransformer(BaseEstimator, TransformerMixin):\n",
        "  def __init__(self):\n",
        "    print('\\n>>>>>>>init() called.\\n')\n",
        "\n",
        "  def fit(self, X, y = None):\n",
        "    print('\\n>>>>>>>fit() called.\\n')\n",
        "    return self\n",
        "\n",
        "  def transform(self, X, y = None):\n",
        "    print('\\n>>>>>>>transform() called.\\n')\n",
        "    X_ = X.copy() # creating a copy to avoid changes to original dataset\n",
        "    X_.X2 = 2 * np.sqrt(X_.X2)\n",
        "    return X_"
      ],
      "execution_count": 0,
      "outputs": []
    },
    {
      "cell_type": "code",
      "metadata": {
        "id": "spUiscMUPY83",
        "colab_type": "code",
        "colab": {
          "base_uri": "https://localhost:8080/",
          "height": 145
        },
        "outputId": "961ad4f6-5143-442a-8a19-bc986910479d"
      },
      "source": [
        "# without input transformation - to validate that we get the same results as before\n",
        "print(\"create pipeline 1\")\n",
        "pipe1 = Pipeline(steps=[\n",
        "                       ('linear_model', LinearRegression())\n",
        "])\n",
        "print(\"fit pipeline 1\")\n",
        "pipe1.fit(train_X, train_y)\n",
        "print(\"predict via pipeline 1\")\n",
        "preds1 = pipe1.predict(test_X)\n",
        "print(f\"\\n{preds1}\")  # should be [13.72113586 16.93334467]\n",
        "print(f\"RMSE: {np.sqrt(mean_squared_error(test_y, preds1))}\\n\")  "
      ],
      "execution_count": 33,
      "outputs": [
        {
          "output_type": "stream",
          "text": [
            "create pipeline 1\n",
            "fit pipeline 1\n",
            "predict via pipeline 1\n",
            "\n",
            "[13.72113586 16.93334467]\n",
            "RMSE: 0.20274138822160603\n",
            "\n"
          ],
          "name": "stdout"
        }
      ]
    },
    {
      "cell_type": "code",
      "metadata": {
        "id": "OFTnGVww_kIi",
        "colab_type": "code",
        "colab": {
          "base_uri": "https://localhost:8080/",
          "height": 363
        },
        "outputId": "a86df4fa-fa17-4a43-f87a-07167fff174c"
      },
      "source": [
        "# with input transformation\n",
        "print(\"create pipeline 2\")\n",
        "pipe2 = Pipeline(steps=[\n",
        "                       ('experimental_trans', ExperimentalTransformer()),    # this will trigger a call to __init__\n",
        "                       ('linear_model', LinearRegression())\n",
        "])\n",
        "\n",
        "# an alternate, shorter syntax to do the above, without naming each step, is:\n",
        "#pipe2 = make_pipeline(ExperimentalTransformer(), LinearRegression())\n",
        "\n",
        "print(\"fit pipeline 2\")\n",
        "pipe2.fit(train_X, train_y)\n",
        "print(\"predict via pipeline 2\")\n",
        "preds2 = pipe2.predict(test_X)\n",
        "print(f\"\\n{preds2}\")  # should be [14. 17.]\n",
        "print(f\"RMSE: {np.sqrt(mean_squared_error(test_y, preds2))}\\n\")"
      ],
      "execution_count": 34,
      "outputs": [
        {
          "output_type": "stream",
          "text": [
            "create pipeline 2\n",
            "\n",
            ">>>>>>>init() called.\n",
            "\n",
            "fit pipeline 2\n",
            "\n",
            ">>>>>>>fit() called.\n",
            "\n",
            "\n",
            ">>>>>>>transform() called.\n",
            "\n",
            "predict via pipeline 2\n",
            "\n",
            ">>>>>>>transform() called.\n",
            "\n",
            "\n",
            "[14. 17.]\n",
            "RMSE: 1.2560739669470201e-15\n",
            "\n"
          ],
          "name": "stdout"
        }
      ]
    },
    {
      "cell_type": "code",
      "metadata": {
        "id": "7QAxS_dkSpnC",
        "colab_type": "code",
        "colab": {}
      },
      "source": [
        "# we've assumed in the transform() function of our ExperimentalTransformer that the column name is X2. Let's not do so and\n",
        "# pass the column name via the constructor, __init__()"
      ],
      "execution_count": 0,
      "outputs": []
    },
    {
      "cell_type": "code",
      "metadata": {
        "id": "qB8bhqpdS-2m",
        "colab_type": "code",
        "colab": {}
      },
      "source": [
        "class ExperimentalTransformer_2(BaseEstimator, TransformerMixin):\n",
        "  # add another additional parameter, just for fun, while we are at it\n",
        "  def __init__(self, feature_name, additional_param = \"Himanshu\"):  \n",
        "    print('\\n>>>>>>>init() called.\\n')\n",
        "    self.feature_name = feature_name\n",
        "    self.additional_param = additional_param\n",
        "\n",
        "  def fit(self, X, y = None):\n",
        "    print('\\n>>>>>>>fit() called.\\n')\n",
        "    print(f'\\nadditional param ~~~~~ {self.additional_param}\\n')\n",
        "    return self\n",
        "\n",
        "  def transform(self, X, y = None):\n",
        "    print('\\n>>>>>>>transform() called.\\n')\n",
        "    X_ = X.copy() # creating a copy to avoid changes to original dataset\n",
        "    X_[self.feature_name] = 2 * np.sqrt(X_[self.feature_name])\n",
        "    return X_"
      ],
      "execution_count": 0,
      "outputs": []
    },
    {
      "cell_type": "code",
      "metadata": {
        "id": "A_WkBgdkTOLU",
        "colab_type": "code",
        "colab": {}
      },
      "source": [
        "# take care to keep the parameter name exactly the same in the function argument as well as \n",
        "# the class' variable (feature_name). Changing that will cause problems later when we also\n",
        "# try to transform the target feature (y). It causes a double-call to __init__ for some reason."
      ],
      "execution_count": 0,
      "outputs": []
    },
    {
      "cell_type": "code",
      "metadata": {
        "id": "GB6WV6pUTuu-",
        "colab_type": "code",
        "colab": {
          "base_uri": "https://localhost:8080/",
          "height": 417
        },
        "outputId": "bdd1ecc7-285d-4d39-f8f3-d6101bdeeef7"
      },
      "source": [
        "print(\"create pipeline 2\")\n",
        "pipe2 = Pipeline(steps=[\n",
        "                       ('experimental_trans', ExperimentalTransformer_2('X2')),\n",
        "                       ('linear_model', LinearRegression())\n",
        "])\n",
        "print(\"fit pipeline 2\")\n",
        "pipe2.fit(train_X, train_y)\n",
        "print(\"predict via pipeline 2\")\n",
        "preds2 = pipe2.predict(test_X)\n",
        "print(f\"\\n{preds2}\")  # should be [14. 17.]\n",
        "print(f\"RMSE: {np.sqrt(mean_squared_error(test_y, preds2))}\\n\")"
      ],
      "execution_count": 38,
      "outputs": [
        {
          "output_type": "stream",
          "text": [
            "create pipeline 2\n",
            "\n",
            ">>>>>>>init() called.\n",
            "\n",
            "fit pipeline 2\n",
            "\n",
            ">>>>>>>fit() called.\n",
            "\n",
            "\n",
            "additional param ~~~~~ Himanshu\n",
            "\n",
            "\n",
            ">>>>>>>transform() called.\n",
            "\n",
            "predict via pipeline 2\n",
            "\n",
            ">>>>>>>transform() called.\n",
            "\n",
            "\n",
            "[14. 17.]\n",
            "RMSE: 1.2560739669470201e-15\n",
            "\n"
          ],
          "name": "stdout"
        }
      ]
    },
    {
      "cell_type": "code",
      "metadata": {
        "id": "jBLKFfxcVhE5",
        "colab_type": "code",
        "colab": {}
      },
      "source": [
        "# let's take this a step further by modifying the dataframe to have target as squares of current values:"
      ],
      "execution_count": 0,
      "outputs": []
    },
    {
      "cell_type": "code",
      "metadata": {
        "id": "uqY60SOGViBG",
        "colab_type": "code",
        "colab": {}
      },
      "source": [
        "df = pd.DataFrame(columns=['X1', 'X2', 'y'], data=[\n",
        "                                                   [1,16,81],\n",
        "                                                   [4,36,256],\n",
        "                                                   [1,16,81],\n",
        "                                                   [2,9,64],\n",
        "                                                   [3,36,225],\n",
        "                                                   [2,49,256],\n",
        "                                                   [4,25,196],\n",
        "                                                   [5,36,289]\n",
        "])\n",
        "\n",
        "### sqrt(y) = X1 + 2 * sqrt(X2)\n",
        "\n",
        "train = df.iloc[:6]\n",
        "test = df.iloc[6:]\n",
        "\n",
        "train_X = train.drop('y', axis=1)\n",
        "train_y = train.y\n",
        "\n",
        "test_X = test.drop('y', axis=1)\n",
        "test_y = test.y"
      ],
      "execution_count": 0,
      "outputs": []
    },
    {
      "cell_type": "code",
      "metadata": {
        "id": "FSAo6KGzViSe",
        "colab_type": "code",
        "colab": {
          "base_uri": "https://localhost:8080/",
          "height": 145
        },
        "outputId": "2b16b778-bcda-4b00-a700-6e85bc162e30"
      },
      "source": [
        "# let's see model's performance with no input & target transformations:\n",
        "print(\"create pipeline 1\")\n",
        "pipe1 = Pipeline(steps=[\n",
        "                       ('linear_model', LinearRegression())\n",
        "])\n",
        "print(\"fit pipeline 1\")\n",
        "pipe1.fit(train_X, train_y)\n",
        "print(\"predict via pipeline 1\")\n",
        "preds1 = pipe1.predict(test_X)\n",
        "print(f\"\\n{preds1}\")  \n",
        "print(f\"RMSE: {np.sqrt(mean_squared_error(test_y, preds1))}\\n\")  "
      ],
      "execution_count": 41,
      "outputs": [
        {
          "output_type": "stream",
          "text": [
            "create pipeline 1\n",
            "fit pipeline 1\n",
            "predict via pipeline 1\n",
            "\n",
            "[200.34790002 279.04738423]\n",
            "RMSE: 7.679804528409077\n",
            "\n"
          ],
          "name": "stdout"
        }
      ]
    },
    {
      "cell_type": "code",
      "metadata": {
        "id": "i_PwqZaTVihG",
        "colab_type": "code",
        "colab": {
          "base_uri": "https://localhost:8080/",
          "height": 417
        },
        "outputId": "eb81b244-93a0-42fc-a80e-18a2dc259262"
      },
      "source": [
        "# with input transformation but no target transformation\n",
        "print(\"create pipeline 2\")\n",
        "pipe2 = Pipeline(steps=[\n",
        "                       ('experimental_trans', ExperimentalTransformer_2('X2')),\n",
        "                       ('linear_model', LinearRegression())\n",
        "])\n",
        "print(\"fit pipeline 2\")\n",
        "pipe2.fit(train_X, train_y)\n",
        "print(\"predict via pipeline 2\")\n",
        "preds2 = pipe2.predict(test_X)\n",
        "print(f\"\\n{preds2}\")  \n",
        "print(f\"RMSE: {np.sqrt(mean_squared_error(test_y, preds2))}\\n\")"
      ],
      "execution_count": 42,
      "outputs": [
        {
          "output_type": "stream",
          "text": [
            "create pipeline 2\n",
            "\n",
            ">>>>>>>init() called.\n",
            "\n",
            "fit pipeline 2\n",
            "\n",
            ">>>>>>>fit() called.\n",
            "\n",
            "\n",
            "additional param ~~~~~ Himanshu\n",
            "\n",
            "\n",
            ">>>>>>>transform() called.\n",
            "\n",
            "predict via pipeline 2\n",
            "\n",
            ">>>>>>>transform() called.\n",
            "\n",
            "\n",
            "[207.42690058 280.94152047]\n",
            "RMSE: 9.887192456534303\n",
            "\n"
          ],
          "name": "stdout"
        }
      ]
    },
    {
      "cell_type": "code",
      "metadata": {
        "id": "9Ug-zMF0YISg",
        "colab_type": "code",
        "colab": {}
      },
      "source": [
        "# we'll now write a custom target transformer.\n",
        "# this needs 2 functions, one to transform and another to inverse-transform"
      ],
      "execution_count": 0,
      "outputs": []
    },
    {
      "cell_type": "code",
      "metadata": {
        "id": "TskWUHTcVit_",
        "colab_type": "code",
        "colab": {}
      },
      "source": [
        "def target_transform(target):\n",
        "  print('\\n*****************target_transform() called.\\n')\n",
        "  target_ = target.copy() \n",
        "  target_ = np.sqrt(target_)\n",
        "  return target_\n",
        "\n",
        "def inverse_target_transform(target):\n",
        "  print('\\n*****************inverse_target_transform() called.\\n')\n",
        "  target_ = target.copy() \n",
        "  target_ = target_ ** 2\n",
        "  return target_"
      ],
      "execution_count": 0,
      "outputs": []
    },
    {
      "cell_type": "code",
      "metadata": {
        "id": "OwNd-9__Ywx9",
        "colab_type": "code",
        "colab": {
          "base_uri": "https://localhost:8080/",
          "height": 799
        },
        "outputId": "da2ba50d-8f3d-405d-f137-b8abcb7d2c6d"
      },
      "source": [
        "# with input transformation & target transformation\n",
        "print(\"create pipeline 3\")\n",
        "# no change in input pipeline\n",
        "pipe3 = Pipeline(steps=[\n",
        "                       ('experimental_trans', ExperimentalTransformer_2('X2')),\n",
        "                       ('linear_model', LinearRegression())\n",
        "])\n",
        "\n",
        "# create a TargetTransformer \n",
        "model = TransformedTargetRegressor(regressor=pipe3, \n",
        "                                   func=target_transform, \n",
        "                                   inverse_func=inverse_target_transform)\n",
        "\n",
        "print(\"fit pipeline 3 [fit Model]\")\n",
        "# note the different syntax here; we fit the 'model' now, instead of 'pipe3'\n",
        "model.fit(train_X, train_y)  \n",
        "print(\"predict via pipeline 3 [Model]\")\n",
        "preds3 = model.predict(test_X) # same here, using 'model' to predict\n",
        "print(f\"\\n{preds3}\")  # should be [196. 289.]\n",
        "print(f\"RMSE: {np.sqrt(mean_squared_error(test_y, preds3))}\\n\")"
      ],
      "execution_count": 45,
      "outputs": [
        {
          "output_type": "stream",
          "text": [
            "create pipeline 3\n",
            "\n",
            ">>>>>>>init() called.\n",
            "\n",
            "fit pipeline 3 [fit Model]\n",
            "\n",
            "*****************target_transform() called.\n",
            "\n",
            "\n",
            "*****************inverse_target_transform() called.\n",
            "\n",
            "\n",
            "*****************target_transform() called.\n",
            "\n",
            "\n",
            "*****************inverse_target_transform() called.\n",
            "\n",
            "\n",
            "*****************target_transform() called.\n",
            "\n",
            "\n",
            ">>>>>>>init() called.\n",
            "\n",
            "\n",
            ">>>>>>>fit() called.\n",
            "\n",
            "\n",
            "additional param ~~~~~ Himanshu\n",
            "\n",
            "\n",
            ">>>>>>>transform() called.\n",
            "\n",
            "predict via pipeline 3 [Model]\n",
            "\n",
            ">>>>>>>transform() called.\n",
            "\n",
            "\n",
            "*****************inverse_target_transform() called.\n",
            "\n",
            "\n",
            "[196. 289.]\n",
            "RMSE: 4.0194366942304644e-14\n",
            "\n"
          ],
          "name": "stdout"
        }
      ]
    },
    {
      "cell_type": "code",
      "metadata": {
        "id": "YYQ0HystcAmr",
        "colab_type": "code",
        "colab": {}
      },
      "source": [
        "# perfect predictions!"
      ],
      "execution_count": 0,
      "outputs": []
    },
    {
      "cell_type": "code",
      "metadata": {
        "id": "YTM-qswpcCwf",
        "colab_type": "code",
        "colab": {}
      },
      "source": [
        "# we can even use in-built Transformers instead of user-defined functions. Example-\n",
        "# model = TransformedTargetRegressor(regressor=pipe3, transformer=PowerTransformer())\n",
        "# or\n",
        "# model = TransformedTargetRegressor(regressor=pipe3, transformer=StandardScaler())\n",
        "# using a built-in transformer does not require us to specify the inverse_transformer() as that is taken care of internally."
      ],
      "execution_count": 0,
      "outputs": []
    },
    {
      "cell_type": "code",
      "metadata": {
        "id": "mmEs3zaKEneX",
        "colab_type": "code",
        "colab": {}
      },
      "source": [
        "# in case you want to have a custom transformer inside TransformedTargetRegressor, you can do that too. The only additional \n",
        "# function you'll have to implement would be inverse_transform(). Here's an example:"
      ],
      "execution_count": 0,
      "outputs": []
    },
    {
      "cell_type": "code",
      "metadata": {
        "id": "yBZ-S3y9_AQz",
        "colab_type": "code",
        "colab": {}
      },
      "source": [
        "class CustomTargetTransformer(BaseEstimator, TransformerMixin):\n",
        "  # no need to implement __init__ in this particular case\n",
        "  \n",
        "  def fit(self, target):\n",
        "    return self\n",
        "\n",
        "  def transform(self, target):\n",
        "    print('\\n%%%%%%%%%%%%%%%custom_target_transform() called.\\n')\n",
        "    target_ = target.copy() \n",
        "    target_ = np.sqrt(target_)\n",
        "    return target_\n",
        "\n",
        "  # need to implement this too\n",
        "  def inverse_transform(self, target):\n",
        "    print('\\n%%%%%%%%%%%%%%%custom_inverse_target_transform() called.\\n')\n",
        "    target_ = target.copy() \n",
        "    target_ = target_ ** 2\n",
        "    return target_"
      ],
      "execution_count": 0,
      "outputs": []
    },
    {
      "cell_type": "code",
      "metadata": {
        "id": "rsCBFs6o-gBN",
        "colab_type": "code",
        "colab": {
          "base_uri": "https://localhost:8080/",
          "height": 581
        },
        "outputId": "6ea392f9-7a0a-45d1-a7d5-05a1a0ac0d41"
      },
      "source": [
        "# with input transformation & target transformation\n",
        "print(\"create pipeline 3.1\")\n",
        "# no change in input pipeline\n",
        "pipe3_1 = Pipeline(steps=[\n",
        "                       ('experimental_trans', ExperimentalTransformer_2('X2')),\n",
        "                       ('linear_model', LinearRegression())\n",
        "])\n",
        "\n",
        "# create a TargetTransformer \n",
        "# By default, the provided functions are checked at each fit to be the inverse of each other. However, it is \n",
        "# possible to bypass this checking by setting check_inverse to False.\n",
        "model = TransformedTargetRegressor(regressor=pipe3_1, \n",
        "                                   transformer=CustomTargetTransformer(),\n",
        "                                   check_inverse=False) # avoid repeated calls\n",
        "\n",
        "print(\"fit pipeline 3.1 [fit Model]\")\n",
        "model.fit(train_X, train_y)  \n",
        "print(\"predict via pipeline 3.1 [Model]\")\n",
        "preds3_1 = model.predict(test_X) \n",
        "print(f\"\\n{preds3_1}\")  # should be [196. 289.]\n",
        "print(f\"RMSE: {np.sqrt(mean_squared_error(test_y, preds3_1))}\\n\")"
      ],
      "execution_count": 50,
      "outputs": [
        {
          "output_type": "stream",
          "text": [
            "create pipeline 3.1\n",
            "\n",
            ">>>>>>>init() called.\n",
            "\n",
            "fit pipeline 3.1 [fit Model]\n",
            "\n",
            "%%%%%%%%%%%%%%%custom_target_transform() called.\n",
            "\n",
            "\n",
            ">>>>>>>init() called.\n",
            "\n",
            "\n",
            ">>>>>>>fit() called.\n",
            "\n",
            "\n",
            "additional param ~~~~~ Himanshu\n",
            "\n",
            "\n",
            ">>>>>>>transform() called.\n",
            "\n",
            "predict via pipeline 3.1 [Model]\n",
            "\n",
            ">>>>>>>transform() called.\n",
            "\n",
            "\n",
            "%%%%%%%%%%%%%%%custom_inverse_target_transform() called.\n",
            "\n",
            "\n",
            "[196. 289.]\n",
            "RMSE: 4.0194366942304644e-14\n",
            "\n"
          ],
          "name": "stdout"
        }
      ]
    },
    {
      "cell_type": "code",
      "metadata": {
        "id": "Ly2iew-uEhdU",
        "colab_type": "code",
        "colab": {}
      },
      "source": [
        "# let's now see how to get and set parameters of the model. We'll also cache the transformer to \n",
        "# avoid repeated computation and make it more efficient."
      ],
      "execution_count": 0,
      "outputs": []
    },
    {
      "cell_type": "code",
      "metadata": {
        "id": "I0KB3cjDC5ho",
        "colab_type": "code",
        "colab": {
          "base_uri": "https://localhost:8080/",
          "height": 490
        },
        "outputId": "e17e937f-9ff3-485a-8730-846e2851a6da"
      },
      "source": [
        "# get all the params of our model\n",
        "model.get_params()"
      ],
      "execution_count": 52,
      "outputs": [
        {
          "output_type": "execute_result",
          "data": {
            "text/plain": [
              "{'check_inverse': False,\n",
              " 'func': None,\n",
              " 'inverse_func': None,\n",
              " 'regressor': Pipeline(memory=None,\n",
              "          steps=[('experimental_trans',\n",
              "                  ExperimentalTransformer_2(additional_param='Himanshu',\n",
              "                                            feature_name='X2')),\n",
              "                 ('linear_model',\n",
              "                  LinearRegression(copy_X=True, fit_intercept=True, n_jobs=None,\n",
              "                                   normalize=False))],\n",
              "          verbose=False),\n",
              " 'regressor__experimental_trans': ExperimentalTransformer_2(additional_param='Himanshu', feature_name='X2'),\n",
              " 'regressor__experimental_trans__additional_param': 'Himanshu',\n",
              " 'regressor__experimental_trans__feature_name': 'X2',\n",
              " 'regressor__linear_model': LinearRegression(copy_X=True, fit_intercept=True, n_jobs=None, normalize=False),\n",
              " 'regressor__linear_model__copy_X': True,\n",
              " 'regressor__linear_model__fit_intercept': True,\n",
              " 'regressor__linear_model__n_jobs': None,\n",
              " 'regressor__linear_model__normalize': False,\n",
              " 'regressor__memory': None,\n",
              " 'regressor__steps': [('experimental_trans',\n",
              "   ExperimentalTransformer_2(additional_param='Himanshu', feature_name='X2')),\n",
              "  ('linear_model',\n",
              "   LinearRegression(copy_X=True, fit_intercept=True, n_jobs=None, normalize=False))],\n",
              " 'regressor__verbose': False,\n",
              " 'transformer': CustomTargetTransformer()}"
            ]
          },
          "metadata": {
            "tags": []
          },
          "execution_count": 52
        }
      ]
    },
    {
      "cell_type": "code",
      "metadata": {
        "id": "h729iuXW26OI",
        "colab_type": "code",
        "colab": {}
      },
      "source": [
        "from tempfile import mkdtemp\n",
        "from shutil import rmtree\n",
        "# read about caching and side effect at: https://scikit-learn.org/stable/modules/compose.html?highlight=transformedtargetregressor#pipeline-chaining-estimators"
      ],
      "execution_count": 0,
      "outputs": []
    },
    {
      "cell_type": "code",
      "metadata": {
        "id": "ev2o5jU-Cpcb",
        "colab_type": "code",
        "colab": {
          "base_uri": "https://localhost:8080/",
          "height": 635
        },
        "outputId": "374c1b5f-6618-4ca7-cd43-72b6f83c008b"
      },
      "source": [
        "cachedir = mkdtemp()\n",
        "print(\"create pipeline 4\")\n",
        "pipe4 = Pipeline(steps=[\n",
        "                        # incorrect column name passed\n",
        "                       ('experimental_trans', ExperimentalTransformer_2('X1')), \n",
        "                       ('linear_model', LinearRegression())\n",
        "], memory=cachedir)\n",
        "# create a TargetTransformer\n",
        "model = TransformedTargetRegressor(regressor=pipe4, \n",
        "                                   func=target_transform, \n",
        "                                   inverse_func=inverse_target_transform, \n",
        "                                   check_inverse=False) \n",
        "# correcting the column name using set_params()\n",
        "model.set_params(regressor__experimental_trans__feature_name = 'X2') \n",
        "\n",
        "print(\"fit pipeline 4 [fit Model]\")\n",
        "model.fit(train_X, train_y)  \n",
        "print(\"predict via pipeline 4 [Model]\")\n",
        "preds4 = model.predict(test_X) \n",
        "print(f\"\\n{preds4}\")  # should be [196. 289.]\n",
        "print(f\"RMSE: {np.sqrt(mean_squared_error(test_y, preds4))}\\n\")\n",
        "\n",
        "# Clear the cache directory when you don't need it anymore\n",
        "rmtree(cachedir)"
      ],
      "execution_count": 54,
      "outputs": [
        {
          "output_type": "stream",
          "text": [
            "create pipeline 4\n",
            "\n",
            ">>>>>>>init() called.\n",
            "\n",
            "fit pipeline 4 [fit Model]\n",
            "\n",
            "*****************target_transform() called.\n",
            "\n",
            "\n",
            ">>>>>>>init() called.\n",
            "\n",
            "\n",
            ">>>>>>>init() called.\n",
            "\n",
            "\n",
            ">>>>>>>fit() called.\n",
            "\n",
            "\n",
            "additional param ~~~~~ Himanshu\n",
            "\n",
            "\n",
            ">>>>>>>transform() called.\n",
            "\n",
            "predict via pipeline 4 [Model]\n",
            "\n",
            ">>>>>>>transform() called.\n",
            "\n",
            "\n",
            "*****************inverse_target_transform() called.\n",
            "\n",
            "\n",
            "[196. 289.]\n",
            "RMSE: 4.0194366942304644e-14\n",
            "\n"
          ],
          "name": "stdout"
        }
      ]
    },
    {
      "cell_type": "code",
      "metadata": {
        "id": "_5ZCrirHIADe",
        "colab_type": "code",
        "colab": {}
      },
      "source": [
        "# NEXT STEPS:\n",
        "\n",
        "# 1. FeatureUnion and ColumnTransformer\n",
        "# Some great examples:\n",
        "# https://scikit-learn.org/stable/modules/compose.html#featureunion-composite-feature-spaces  \n",
        "# https://scikit-learn.org/stable/modules/generated/sklearn.compose.ColumnTransformer.html#sklearn.compose.ColumnTransformer\n",
        "\n",
        "\n",
        "# 2. Using GridSearch with Pipelines\n",
        "# Example: https://scikit-learn.org/stable/auto_examples/compose/plot_feature_union.html?highlight=pipeline\n"
      ],
      "execution_count": 0,
      "outputs": []
    },
    {
      "cell_type": "code",
      "metadata": {
        "id": "M7b3qRdI3EMB",
        "colab_type": "code",
        "colab": {}
      },
      "source": [
        ""
      ],
      "execution_count": 0,
      "outputs": []
    }
  ]
}